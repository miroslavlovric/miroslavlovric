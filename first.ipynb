{
 "cells": [
  {
   "cell_type": "markdown",
   "id": "cedec0c0-3b6e-45ac-ac84-594f5b88af65",
   "metadata": {},
   "source": [
    "* Create a github repo \n",
    "* clone a suzugy\n",
    "* create content\n",
    "* share content\n",
    "* assessment"
   ]
  },
  {
   "cell_type": "code",
   "execution_count": 16,
   "id": "deedb56d-4d7e-40c4-b7de-79a6f92bc058",
   "metadata": {},
   "outputs": [
    {
     "data": {
      "text/plain": [
       "3"
      ]
     },
     "execution_count": 16,
     "metadata": {},
     "output_type": "execute_result"
    }
   ],
   "source": [
    "1+2"
   ]
  },
  {
   "cell_type": "code",
   "execution_count": 17,
   "id": "1a596bae-1a12-4841-b97a-0baf41697442",
   "metadata": {},
   "outputs": [],
   "source": [
    "import numpy as np\n",
    "import scipy.linalg as lg\n"
   ]
  },
  {
   "cell_type": "code",
   "execution_count": 18,
   "id": "124804c9-aad2-41fa-b9dd-a102ddf908a4",
   "metadata": {},
   "outputs": [
    {
     "data": {
      "text/plain": [
       "71"
      ]
     },
     "execution_count": 18,
     "metadata": {},
     "output_type": "execute_result"
    }
   ],
   "source": [
    "4+67"
   ]
  },
  {
   "cell_type": "code",
   "execution_count": 19,
   "id": "9fe44658-f94b-479f-83fc-ba031e97fa93",
   "metadata": {},
   "outputs": [
    {
     "name": "stdout",
     "output_type": "stream",
     "text": [
      "[[2. 4. 0. 0. 0. 0. 0. 0. 0. 0.]\n",
      " [0. 2. 4. 0. 0. 0. 0. 0. 0. 0.]\n",
      " [0. 0. 2. 4. 0. 0. 0. 0. 0. 0.]\n",
      " [0. 0. 0. 2. 4. 0. 0. 0. 0. 0.]\n",
      " [0. 0. 0. 0. 2. 4. 0. 0. 0. 0.]\n",
      " [0. 0. 0. 0. 0. 2. 4. 0. 0. 0.]\n",
      " [0. 0. 0. 0. 0. 0. 2. 4. 0. 0.]\n",
      " [0. 0. 0. 0. 0. 0. 0. 2. 4. 0.]\n",
      " [0. 0. 0. 0. 0. 0. 0. 0. 2. 4.]\n",
      " [0. 0. 0. 0. 0. 0. 0. 0. 0. 2.]]\n"
     ]
    }
   ],
   "source": [
    "n=10\n",
    "A=2*np.eye(n)+np.diag(4*np.ones(n-1),1)\n",
    "print(A)"
   ]
  },
  {
   "cell_type": "code",
   "execution_count": 22,
   "id": "88091073-9f68-44c2-bcee-91f673abec8a",
   "metadata": {},
   "outputs": [
    {
     "data": {
      "text/plain": [
       "array([[ 12., 240.,   0.,   0.,   0.,   0.,   0.,   0.,   0.,   0.],\n",
       "       [  0.,  12., 240.,   0.,   0.,   0.,   0.,   0.,   0.,   0.],\n",
       "       [  0.,   0.,  12., 240.,   0.,   0.,   0.,   0.,   0.,   0.],\n",
       "       [  0.,   0.,   0.,  12., 240.,   0.,   0.,   0.,   0.,   0.],\n",
       "       [  0.,   0.,   0.,   0.,  12., 240.,   0.,   0.,   0.,   0.],\n",
       "       [  0.,   0.,   0.,   0.,   0.,  12., 240.,   0.,   0.,   0.],\n",
       "       [  0.,   0.,   0.,   0.,   0.,   0.,  12., 240.,   0.,   0.],\n",
       "       [  0.,   0.,   0.,   0.,   0.,   0.,   0.,  12., 240.,   0.],\n",
       "       [  0.,   0.,   0.,   0.,   0.,   0.,   0.,   0.,  12., 240.],\n",
       "       [  0.,   0.,   0.,   0.,   0.,   0.,   0.,   0.,   0.,  12.]])"
      ]
     },
     "execution_count": 22,
     "metadata": {},
     "output_type": "execute_result"
    }
   ],
   "source": [
    "A**4-A**2\n"
   ]
  },
  {
   "cell_type": "code",
   "execution_count": null,
   "id": "a5b88e09-6e49-4438-bc9b-09df314615b4",
   "metadata": {},
   "outputs": [],
   "source": []
  },
  {
   "cell_type": "code",
   "execution_count": null,
   "id": "e2ce1c70-6b5c-436f-9a44-8c035d4d89d5",
   "metadata": {},
   "outputs": [],
   "source": []
  },
  {
   "cell_type": "code",
   "execution_count": null,
   "id": "0235f5e0-88c0-4ae8-8e0e-53cfbb015683",
   "metadata": {},
   "outputs": [],
   "source": []
  },
  {
   "cell_type": "code",
   "execution_count": null,
   "id": "1317562b-4c47-4c3b-802b-caba76bae3e8",
   "metadata": {},
   "outputs": [],
   "source": []
  },
  {
   "cell_type": "code",
   "execution_count": null,
   "id": "9fc66abc-c9d7-42ed-907e-496698fe1422",
   "metadata": {},
   "outputs": [],
   "source": []
  },
  {
   "cell_type": "code",
   "execution_count": null,
   "id": "9167019f-4bd3-4645-8800-854d4727bc0c",
   "metadata": {},
   "outputs": [],
   "source": []
  },
  {
   "cell_type": "code",
   "execution_count": null,
   "id": "8d6de87f-54a5-4fb7-8b27-fdf68b9469f9",
   "metadata": {},
   "outputs": [],
   "source": []
  },
  {
   "cell_type": "code",
   "execution_count": null,
   "id": "032db301-9d29-4fcd-913a-10a4014d12ed",
   "metadata": {},
   "outputs": [],
   "source": []
  },
  {
   "cell_type": "code",
   "execution_count": null,
   "id": "3692b6cb-7faa-4d9c-a620-04623606ee4c",
   "metadata": {},
   "outputs": [],
   "source": []
  },
  {
   "cell_type": "code",
   "execution_count": null,
   "id": "3fe8410b-4da5-41c4-a3da-be968cc2ce88",
   "metadata": {},
   "outputs": [],
   "source": []
  },
  {
   "cell_type": "code",
   "execution_count": null,
   "id": "b2e140bf-4799-4265-ad24-0b1a0e8eb167",
   "metadata": {},
   "outputs": [],
   "source": []
  }
 ],
 "metadata": {
  "kernelspec": {
   "display_name": "Python 3 (ipykernel)",
   "language": "python",
   "name": "python3"
  },
  "language_info": {
   "codemirror_mode": {
    "name": "ipython",
    "version": 3
   },
   "file_extension": ".py",
   "mimetype": "text/x-python",
   "name": "python",
   "nbconvert_exporter": "python",
   "pygments_lexer": "ipython3",
   "version": "3.9.7"
  }
 },
 "nbformat": 4,
 "nbformat_minor": 5
}
