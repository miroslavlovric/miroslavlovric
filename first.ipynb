{
 "cells": [
  {
   "cell_type": "markdown",
   "id": "cedec0c0-3b6e-45ac-ac84-594f5b88af65",
   "metadata": {},
   "source": [
    "* Create a github repo \n",
    "* clone a suzugy\n",
    "* create content\n",
    "* share content\n",
    "* assessment"
   ]
  },
  {
   "cell_type": "code",
   "execution_count": 1,
   "id": "deedb56d-4d7e-40c4-b7de-79a6f92bc058",
   "metadata": {},
   "outputs": [
    {
     "data": {
      "text/plain": [
       "3"
      ]
     },
     "execution_count": 1,
     "metadata": {},
     "output_type": "execute_result"
    }
   ],
   "source": [
    "1+2"
   ]
  },
  {
   "cell_type": "code",
   "execution_count": 4,
   "id": "1a596bae-1a12-4841-b97a-0baf41697442",
   "metadata": {},
   "outputs": [],
   "source": [
    "import numpy as np\n",
    "import scipy.linalg as lg\n"
   ]
  },
  {
   "cell_type": "code",
   "execution_count": null,
   "id": "124804c9-aad2-41fa-b9dd-a102ddf908a4",
   "metadata": {},
   "outputs": [],
   "source": []
  },
  {
   "cell_type": "code",
   "execution_count": null,
   "id": "3692b6cb-7faa-4d9c-a620-04623606ee4c",
   "metadata": {},
   "outputs": [],
   "source": []
  },
  {
   "cell_type": "code",
   "execution_count": null,
   "id": "3fe8410b-4da5-41c4-a3da-be968cc2ce88",
   "metadata": {},
   "outputs": [],
   "source": []
  },
  {
   "cell_type": "code",
   "execution_count": null,
   "id": "b2e140bf-4799-4265-ad24-0b1a0e8eb167",
   "metadata": {},
   "outputs": [],
   "source": []
  }
 ],
 "metadata": {
  "kernelspec": {
   "display_name": "Python 3 (ipykernel)",
   "language": "python",
   "name": "python3"
  },
  "language_info": {
   "codemirror_mode": {
    "name": "ipython",
    "version": 3
   },
   "file_extension": ".py",
   "mimetype": "text/x-python",
   "name": "python",
   "nbconvert_exporter": "python",
   "pygments_lexer": "ipython3",
   "version": "3.9.7"
  }
 },
 "nbformat": 4,
 "nbformat_minor": 5
}
